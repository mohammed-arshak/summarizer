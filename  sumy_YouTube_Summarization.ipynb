{
 "cells": [
  {
   "cell_type": "code",
   "execution_count": null,
   "metadata": {},
   "outputs": [],
   "source": [
    "import nltk\n",
    "from sumy.summarizers.lsa import LsaSummarizer\n",
    "from sumy.nlp.tokenizers import Tokenizer\n",
    "from sumy.parsers.plaintext import PlaintextParser\n",
    "from sumy.nlp.stemmers import Stemmer\n",
    "import spacy\n",
    "\n",
    "nlp = spacy.load(\"en_core_web_lg\")\n",
    "\n",
    "\n",
    "# Download the \"punkt\" resource\n",
    "nltk.download('punkt')\n",
    "\n",
    "def sumy_summarize(text_content, percent):\n",
    "    parser = PlaintextParser.from_string(text_content, Tokenizer(\"english\"))\n",
    "    stemmer = Stemmer(\"english\")\n",
    "    summarizer = LsaSummarizer(stemmer)\n",
    "    summarizer.stop_words = {\"english\"}\n",
    "\n",
    "    num_sentences = int(len(parser.document.sentences) * (int(percent) / 100))\n",
    "    summary = \" \".join(str(s) for s in summarizer(parser.document, num_sentences))\n",
    "\n",
    "    return summary\n",
    "\n",
    "# Sample Paragraph\n",
    "a = '''Ukraine and Russia made tentative progress in talks Monday but failed to reach a deal on creating \"humanitarian corridors\" from pummelled cities, as the bloodshed from Moscow's invasion mounted.\n",
    "Kyiv said there had been \"positive results\" from the third round of negotiations, focused on giving civilians evacuation routes from besieged towns, but Russia said its expectations from the talks were \"not fulfilled\".\n",
    "\n",
    "Ukraine today accepted Russia's proposal of setting up humanitarian corridors.\n",
    "\n",
    "Russian President Vladimir Putin said he is not sending conscripts or reservists to fight and that \"professional\" soldiers fulfilling \"fixed objectives\" are leading the war in Ukraine.\n",
    "\n",
    "Ukraine's President Volodymyr Zelensky renewed calls for the West to boycott Russian exports, particularly oil, and to impose a no-fly zone to stop the carnage.\n",
    "\n",
    "More than 1.7 million people have fled Ukraine since Russia launched its full-scale invasion on February 24.'''\n",
    "# Printing Output\n",
    "print(sumy_summarize(a, 50))\n"
   ]
  }
 ],
 "metadata": {
  "kernelspec": {
   "display_name": "Python 3",
   "language": "python",
   "name": "python3"
  },
  "language_info": {
   "name": "python",
   "version": "3.11.4"
  },
  "orig_nbformat": 4
 },
 "nbformat": 4,
 "nbformat_minor": 2
}
