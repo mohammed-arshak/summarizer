{
 "cells": [
  {
   "cell_type": "code",
   "execution_count": null,
   "metadata": {},
   "outputs": [],
   "source": [
    "# Import \n",
    "from gensim.summarization.summarizer import summarize\n",
    "# Make Function\n",
    "def gensim_summarize(text_content, percent):\n",
    "    # TextRank Summarization using Gensim Library.\n",
    "    # Split is false, gensim return strings joined by \"\\n\". if true, gensim will return list\n",
    "    summary = summarize(text_content, ratio=(int(percent) / 100), split=False).replace(\"\\n\", \" \")\n",
    "\n",
    "    # Returning NLTK Summarization Output\n",
    "    return summary\n",
    "# Sample Paragraph\n",
    "a = '''Ukraine and Russia made tentative progress in talks Monday but failed to reach a deal on creating \"humanitarian corridors\" from pummelled cities, as the bloodshed from Moscow's invasion mounted.\n",
    "Kyiv said there had been \"positive results\" from the third round of negotiations, focused on giving civilians evacuation routes from besieged towns, but Russia said its expectations from the talks were \"not fulfilled\".\n",
    "\n",
    "Ukraine today accepted Russia's proposal of setting up humanitarian corridors.\n",
    "\n",
    "Russian President Vladimir Putin said he is not sending conscripts or reservists to fight and that \"professional\" soldiers fulfilling \"fixed objectives\" are leading the war in Ukraine.\n",
    "\n",
    "Ukraine's President Volodymyr Zelensky renewed calls for the West to boycott Russian exports, particularly oil, and to impose a no-fly zone to stop the carnage.\n",
    "\n",
    "More than 1.7 million people have fled Ukraine since Russia launched its full-scale invasion on February 24.'''\n",
    "# Printing Output\n",
    "gensim_summarize(a, 50)"
   ]
  }
 ],
 "metadata": {
  "language_info": {
   "name": "python"
  },
  "orig_nbformat": 4
 },
 "nbformat": 4,
 "nbformat_minor": 2
}
