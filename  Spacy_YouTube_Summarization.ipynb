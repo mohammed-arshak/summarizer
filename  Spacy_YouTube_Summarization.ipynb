{
 "cells": [
  {
   "cell_type": "code",
   "execution_count": null,
   "metadata": {},
   "outputs": [],
   "source": [
    "import spacy\n",
    "from spacy.lang.en.stop_words import STOP_WORDS\n",
    "import string\n",
    "import heapq # Import the 'heapq' module for nlargest\n",
    "nlp = spacy.load(\"en_core_web_lg\")\n",
    "def spacy_summarize(text_content, percent):\n",
    "    stop_words = list(STOP_WORDS)\n",
    "    punctuation_items = set(string.punctuation)\n",
    "    nlp = spacy.load('en_core_web_lg')\n",
    "\n",
    "    nlp_object = nlp(text_content)\n",
    "    word_frequencies = {}\n",
    "    for word in nlp_object:\n",
    "        if word.text.lower() not in stop_words:\n",
    "            if word.text.lower() not in punctuation_items:\n",
    "                if word.text not in word_frequencies.keys():\n",
    "                    word_frequencies[word.text] = 1\n",
    "                else:\n",
    "                    word_frequencies[word.text] += 1\n",
    "                    \n",
    "    max_frequency = max(word_frequencies.values())\n",
    "    for word in word_frequencies.keys():\n",
    "        word_frequencies[word] = word_frequencies[word] / max_frequency\n",
    "    sentence_token = [sentence for sentence in nlp_object.sents]\n",
    "    sentence_scores = {}\n",
    "    for sent in sentence_token:\n",
    "        sentence = sent.text.split(\" \")\n",
    "        for word in sentence:\n",
    "            if word.lower() in word_frequencies.keys():\n",
    "                if sent not in sentence_scores.keys():\n",
    "                    sentence_scores[sent] = word_frequencies[word.lower()]\n",
    "                else:\n",
    "                    sentence_scores[sent] += word_frequencies[word.lower()]\n",
    "\n",
    "    select_length = int(len(sentence_token) * (int(percent) / 100))\n",
    "    summary = heapq.nlargest(select_length, sentence_scores, key=sentence_scores.get)\n",
    "    final_summary = [word.text for word in summary]\n",
    "    summary = ' '.join(final_summary)\n",
    "    return summary"
   ]
  }
 ],
 "metadata": {
  "language_info": {
   "name": "python"
  },
  "orig_nbformat": 4
 },
 "nbformat": 4,
 "nbformat_minor": 2
}
