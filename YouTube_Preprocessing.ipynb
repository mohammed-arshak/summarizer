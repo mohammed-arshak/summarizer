{
 "cells": [
  {
   "cell_type": "code",
   "execution_count": null,
   "metadata": {},
   "outputs": [],
   "source": [
    "from youtube_transcript_api import YouTubeTranscriptApi\n",
    "from IPython.display import YouTubeVideo\n",
    "video=input(\"Enter the link of your YouTube Video: \")\n",
    "\n",
    "id_video=video.split(\"=\")[1]\n",
    "print(id_video)\n",
    "YouTubeVideo(id_video)\n",
    "transcript = YouTubeTranscriptApi.get_transcript(id_video)\n",
    "transcript\n",
    "\n",
    "doc = \"\"\n",
    "for line in transcript:\n",
    "    doc =doc+ ' ' + line['text']\n",
    "print(type(doc))\n",
    "print(doc)\n",
    "#print(len(result))\n",
    "paragraph=\" \".join(doc)\n",
    "print(paragraph)\n",
    "     "
   ]
  }
 ],
 "metadata": {
  "language_info": {
   "name": "python"
  },
  "orig_nbformat": 4
 },
 "nbformat": 4,
 "nbformat_minor": 2
}
