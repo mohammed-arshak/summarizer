{
 "cells": [
  {
   "cell_type": "code",
   "execution_count": null,
   "metadata": {},
   "outputs": [],
   "source": [
    "import spacy\n",
    "import neuralcoref\n",
    "nlp = spacy.load('en_core_web_sm')  \n",
    "neuralcoref.add_to_pipe(nlp)\n",
    "text = \"John and Ross went to the theatre. They had a great time together. Mia joined them late. She went home at midnight.\"\n",
    "\n",
    "doc = nlp(text)  # get the spaCy Doc (composed of Tokens)\n",
    "\n",
    "print(doc._.coref_clusters)  # You can see cluster of similar mentions\n",
    "print(doc._.coref_resolved)"
   ]
  }
 ],
 "metadata": {
  "language_info": {
   "name": "python"
  },
  "orig_nbformat": 4
 },
 "nbformat": 4,
 "nbformat_minor": 2
}
